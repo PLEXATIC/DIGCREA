{
 "cells": [
  {
   "cell_type": "code",
   "execution_count": null,
   "metadata": {},
   "outputs": [],
   "source": [
    "# Initial installation/preparation steps. Only need to be run once per environment.\n",
    "\n",
    "#!pip install librosa boto3 requests tqdm opencv-python torch\n",
    "#!git clone https://github.com/huggingface/pytorch-pretrained-BigGAN.git # Get biggan repo\n",
    "\n",
    "# If used on a GPU environment, make sure to not install default pytorch but pytorch for cuda."
   ]
  },
  {
   "cell_type": "code",
   "execution_count": null,
   "metadata": {},
   "outputs": [],
   "source": [
    "import torch\n",
    "import matplotlib.pyplot as plt\n",
    "import numpy as np\n",
    "import sys\n",
    "from tqdm import tqdm\n",
    "import cv2 as cv\n",
    "import librosa\n",
    "from sklearn.decomposition import PCA, KernelPCA\n",
    "sys.path.append(\"./pytorch-pretrained-BigGAN\")\n",
    "from pytorch_pretrained_biggan import (BigGAN, one_hot_from_names, truncated_noise_sample)\n",
    "\n",
    "model = BigGAN.from_pretrained('biggan-deep-512')\n",
    "truncation = 0.5\n",
    "class_labels = ['soap bubble', \"eagle\", \"goldfish\"]\n",
    "class_vector = one_hot_from_names(class_labels, batch_size=len(class_labels))\n",
    "noise_vector = truncated_noise_sample(truncation=truncation, batch_size=1)\n",
    "model.to('cuda')\n",
    "# Noise shape is 128\n",
    "\n",
    "filename = \"riddle.wav\"\n",
    "sound_data, sampling_rate = librosa.load(filename)"
   ]
  },
  {
   "cell_type": "code",
   "execution_count": null,
   "metadata": {},
   "outputs": [],
   "source": [
    "seconds = len(sound_data)/sampling_rate\n",
    "video_frame_count = int(seconds*30)\n",
    "samples_per_frame = int(sampling_rate/30)\n",
    "\n",
    "frequency_samples = []\n",
    "max_db = 0\n",
    "for i in range(0, sound_data.shape[0]-samples_per_frame, samples_per_frame):\n",
    "    X = np.fft.rfft(sound_data[i:samples_per_frame+i])\n",
    "    Xdb = 20*np.log10(np.abs(X))\n",
    "    frequency_samples.append(np.nan_to_num(Xdb, nan=0, posinf=50, neginf=-50))\n",
    "frequency_samples = np.array(frequency_samples)\n",
    "max_db = np.max(frequency_samples)\n",
    "frequency_samples /= max_db\n",
    "print(max_db)\n",
    "frequency_samples.shape, video_frame_count"
   ]
  },
  {
   "cell_type": "code",
   "execution_count": null,
   "metadata": {},
   "outputs": [],
   "source": [
    "max_frequencies = np.max(frequency_samples)\n",
    "min_frequency = np.min(frequency_samples)\n",
    "normed_frequencies = (frequency_samples-min_frequency)/(np.max(max_frequencies)-min_frequency)\n",
    "pca = KernelPCA(n_components=128, kernel=\"rbf\", gamma=0.1)\n",
    "\n",
    "transformed = pca.fit_transform(normed_frequencies)\n",
    "\n",
    "t_max = np.max(transformed)\n",
    "t_min = np.min(transformed)\n",
    "transformed = (transformed-t_min)/(t_max-t_min)\n",
    "transformed -= np.mean(transformed, axis=0)\n",
    "transformed *= 2\n",
    "\n",
    "low_frequencies = transformed"
   ]
  },
  {
   "cell_type": "code",
   "execution_count": null,
   "metadata": {},
   "outputs": [],
   "source": [
    "frames_per_class = video_frame_count//(len(class_labels)-1)\n",
    "classes_from = class_vector[:-1]\n",
    "classes_to = class_vector[1:]\n",
    "\n",
    "i = 0\n",
    "images = []\n",
    "for class_from, class_to in zip(classes_from, classes_to):\n",
    "    interpolations = np.linspace(class_from, class_to, frames_per_class)\n",
    "    for interpolation in interpolations:\n",
    "        noise_vector += low_frequencies[i]*0.9\n",
    "        noise_vector = np.clip(noise_vector, -1, 1)\n",
    "        noise_vector *= 0.9\n",
    "        i += 1\n",
    "        torch_noise = torch.from_numpy(np.float32(noise_vector))\n",
    "        torch_noise = torch_noise.to('cuda')\n",
    "        torch_class = torch.from_numpy(np.array([interpolation]))\n",
    "        torch_class = torch_class.to('cuda')\n",
    "        with torch.no_grad():\n",
    "            output = model(torch_noise, torch_class, truncation)\n",
    "            output = output.to(\"cpu\")\n",
    "            img = output[0]\n",
    "        np_img = img.permute(1, 2, 0).numpy()\n",
    "        img_max = np.max(np_img)\n",
    "        img_min = np.min(np_img)\n",
    "        np_img = (np_img - img_min) / (img_max - img_min)\n",
    "        images.append(img)\n",
    "        print(i)\n",
    "    "
   ]
  },
  {
   "cell_type": "code",
   "execution_count": null,
   "metadata": {},
   "outputs": [],
   "source": [
    "rgb_images = []\n",
    "for img in images:\n",
    "    img = img.permute(1, 2, 0).numpy()\n",
    "    max_val = np.max(img)\n",
    "    min_val = np.min(img)\n",
    "    img = (img - min_val) / (max_val - min_val)\n",
    "    rgb_images.append(img)\n",
    "video_writer = cv.VideoWriter('sound_walk.avi', cv.VideoWriter_fourcc(*'MJPG'), 30, (512, 512))\n",
    "for img in rgb_images:\n",
    "    img = cv.cvtColor(img, cv.COLOR_RGB2BGR)\n",
    "    video_writer.write((img * 255).astype(np.uint8))\n",
    "video_writer.release()"
   ]
  },
  {
   "cell_type": "code",
   "execution_count": null,
   "metadata": {},
   "outputs": [],
   "source": [
    "#TODO: Adjust this to script above\n",
    "\n",
    "from moviepy.editor import *\n",
    "videoclip = VideoFileClip(\"filename.mp4\")\n",
    "audioclip = AudioFileClip(\"audioname.mp3\")\n",
    "\n",
    "new_audioclip = CompositeAudioClip([audioclip])\n",
    "videoclip.audio = new_audioclip\n",
    "videoclip.write_videofile(\"new_filename.mp4\")"
   ]
  }
 ],
 "metadata": {
  "kernelspec": {
   "display_name": "Python 3.11.0 64-bit",
   "language": "python",
   "name": "python3"
  },
  "language_info": {
   "codemirror_mode": {
    "name": "ipython",
    "version": 3
   },
   "file_extension": ".py",
   "mimetype": "text/x-python",
   "name": "python",
   "nbconvert_exporter": "python",
   "pygments_lexer": "ipython3",
   "version": "3.11.0"
  },
  "orig_nbformat": 4,
  "vscode": {
   "interpreter": {
    "hash": "c261aea317cc0286b3b3261fbba9abdec21eaa57589985bb7a274bf54d6cc0a7"
   }
  }
 },
 "nbformat": 4,
 "nbformat_minor": 2
}
